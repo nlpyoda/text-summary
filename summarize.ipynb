{
 "cells": [
  {
   "cell_type": "markdown",
   "metadata": {},
   "source": [
    "# Generate Summarization from Article Text"
   ]
  },
  {
   "cell_type": "markdown",
   "metadata": {},
   "source": [
    "Use Hugging Face transformers to summarize text. Please refer to [Hugging Face](https://github.com/huggingface/transformers) for more details"
   ]
  },
  {
   "cell_type": "code",
   "execution_count": 5,
   "metadata": {},
   "outputs": [],
   "source": [
    "# import the modules\n",
    "from transformers import pipeline\n",
    "import ipywidgets as widgets"
   ]
  },
  {
   "cell_type": "code",
   "execution_count": 7,
   "metadata": {},
   "outputs": [],
   "source": [
    "# Use the summarization pipeline\n",
    "nlp_gen = pipeline('summarization')"
   ]
  },
  {
   "cell_type": "code",
   "execution_count": 10,
   "metadata": {},
   "outputs": [],
   "source": [
    "# The text to be feed into the model and summarized\n",
    "text = '''\n",
    "    The Starlink satellite design was driven by the fact that they fly at a very low altitude compared to other communications satellites. We do this to prioritize space traffic safety and to minimize the latency of the signal between the satellite and the users who are getting internet service from it. Because of the low altitude, drag is a major factor in the design. During orbit raise, the satellites must minimize their cross-sectional area relative to the \"wind,\" otherwise drag will cause them to fall out of orbit. High drag is a double-edged sword—it means that flying the satellites is tricky, but it also means that any satellites that are experiencing problems will de-orbit quickly and safely burn up in the atmosphere. This reduces the amount of orbital debris or \"space junk\" in orbit. \n",
    "    This low-drag and thrusting flight configuration resembles an open book, where the solar array is laid out flat in front of the vehicle. When Starlink satellites are orbit raising, they roll to a limited extent about the velocity vector for power generation, always keeping the cross sectional area minimized while keeping the antennas facing Earth enough to stay in contact with the ground stations.\n",
    "    When the satellites reach their operational orbit of 550 km, drag is still a factor—so any inoperable satellite will quickly decay—but the attitude control system is able to overcome this drag with the solar array raised above the satellite in a vertical orientation that we call \"shark-fin.\" This is the orientation in which the satellite spends the majority of its operational life.\n",
    "    '''"
   ]
  },
  {
   "cell_type": "code",
   "execution_count": 9,
   "metadata": {},
   "outputs": [
    {
     "data": {
      "application/vnd.jupyter.widget-view+json": {
       "model_id": "12d3ba1f31ba4405aa21ce563214e2ba",
       "version_major": 2,
       "version_minor": 0
      },
      "text/plain": [
       "Text(value='\\n    Starlink Satellite\\n\\n    The Starlink satellite design was driven by the fact that they fly…"
      ]
     },
     "metadata": {},
     "output_type": "display_data"
    },
    {
     "name": "stdout",
     "output_type": "stream",
     "text": [
      "Satellites are designed to fly at a very low altitude to minimize drag. This reduces the amount of orbital debris or \"space junk\" in orbit. \n",
      "\n",
      "The Starlink satellite design was driven by the fact that they fly at a very low altitude compared to other communications satellites. Because of the low altitude, drag is a major factor in the design. The attitude control system is able to overcome this drag with the solar array raised above the satellite in a vertical orientation. \n",
      "\n"
     ]
    }
   ],
   "source": [
    "# New Text can be copied to the \"Article\" widget area and hit ENTER to have it summarized.\n",
    "Article = widgets.Text(\n",
    "    value=text,  # use the text input from above\n",
    "    placeholder='Input',\n",
    "    description='Article:',\n",
    "    disabled=False\n",
    ")\n",
    "\n",
    "# query = widgets.Text(\n",
    "#     value='Why is Einstein famous for ?',\n",
    "#     placeholder='Enter something',\n",
    "#     description='Question:',\n",
    "#     disabled=False\n",
    "# )\n",
    "\n",
    "def forward(_):\n",
    "    if Article.value:\n",
    "        output = nlp_gen(Article.value, min_length=20)            \n",
    "        print(output[0][\"summary_text\"], \"\\n\")\n",
    "Article.on_submit(forward)\n",
    "display(Article)"
   ]
  },
  {
   "cell_type": "code",
   "execution_count": null,
   "metadata": {},
   "outputs": [],
   "source": []
  }
 ],
 "metadata": {
  "kernelspec": {
   "display_name": "Python 3.8.2 64-bit",
   "language": "python",
   "name": "python38264bit035bd59b0a504cdbb275b7841e9f0e44"
  },
  "language_info": {
   "codemirror_mode": {
    "name": "ipython",
    "version": 3
   },
   "file_extension": ".py",
   "mimetype": "text/x-python",
   "name": "python",
   "nbconvert_exporter": "python",
   "pygments_lexer": "ipython3",
   "version": "3.8.2"
  }
 },
 "nbformat": 4,
 "nbformat_minor": 2
}
